{
 "cells": [
  {
   "cell_type": "markdown",
   "metadata": {},
   "source": [
    "# Numerics 1: Homework 02\n",
    "\n",
    "## Cooper Simpson"
   ]
  },
  {
   "cell_type": "markdown",
   "metadata": {},
   "source": [
    "## Setup"
   ]
  },
  {
   "cell_type": "code",
   "execution_count": null,
   "metadata": {},
   "outputs": [],
   "source": [
    "#Theme\n",
    "from jupyterthemes import jtplot\n",
    "!jt -t grade3\n",
    "jtplot.style()"
   ]
  },
  {
   "cell_type": "code",
   "execution_count": null,
   "metadata": {},
   "outputs": [],
   "source": [
    "!jt -r;"
   ]
  },
  {
   "cell_type": "code",
   "execution_count": 1,
   "metadata": {},
   "outputs": [],
   "source": [
    "%matplotlib inline\n",
    "import numpy as np\n",
    "import pandas as pd\n",
    "import scipy.integrate as spi\n",
    "import matplotlib.pyplot as plt\n",
    "from IPython.display import display"
   ]
  },
  {
   "cell_type": "code",
   "execution_count": 3,
   "metadata": {},
   "outputs": [],
   "source": [
    "#Defining our integration and differentation functions\n",
    "\n",
    "#Differentation: central for interior points fwd/bkwd for ends\n",
    "def diff(x, f):\n",
    "    df = np.zeros(len(f))\n",
    "    h = x[1] - x[0]\n",
    "    \n",
    "    #First\n",
    "    df[0] = (f[1]-f[0])/h\n",
    "    \n",
    "    #Interior\n",
    "    for i in range(1,len(f)-1):\n",
    "        df[i] = (f[i+1]-f[i-1])/(2*h)\n",
    "    \n",
    "    #Last\n",
    "    df[-1] = (f[-1]-f[-2])/h\n",
    "    \n",
    "    return df\n",
    "\n",
    "#Trapezoidal integration\n",
    "def trapezoidal(f, a, b, h=0.1):\n",
    "    pts = np.arange(a,b+h,h)\n",
    "    y = f(pts)\n",
    "    y[1:-1] *= 2\n",
    "    \n",
    "    return (h/2)*np.sum(y)\n",
    "\n",
    "#Simpson's 1/3 integration\n",
    "def simpson_13(f, a, b, h=0.1):\n",
    "    pts = np.arange(a,b+h,h)\n",
    "    y = f(pts)\n",
    "    for i in range(1,len(y)-1):\n",
    "        if i%2==0:\n",
    "            y[i] *= 2\n",
    "        else:\n",
    "            y[i] *= 4\n",
    "            \n",
    "    return (h/3)*np.sum(y)\n",
    "\n",
    "\n",
    "#Legendre polynomial roots (i.e. eval locations)\n",
    "gqLoc = {2:np.array([-np.sqrt(3)/3, np.sqrt(3)/3]), \n",
    "            3:np.array([-np.sqrt(15)/5, 0, np.sqrt(15)/5])}\n",
    "gqCoeff = {2:np.array([1,1]), \n",
    "            3:np.array([5/9, 8/9, 5/9])}\n",
    "\n",
    "#Gaussian Quadrature integration\n",
    "def gaussQuad(f, a, b, n):\n",
    "    #Need to convert to [-1,1]\n",
    "    factor = (b-a)/2\n",
    "    def transform(x):\n",
    "        return (x*(b-a)+a+b)/2\n",
    "    \n",
    "    #Using lookup table\n",
    "    t = transform(gqLoc[n])\n",
    "    c = gqCoeff[n]\n",
    "    \n",
    "    I = factor*(np.dot(c,f(t)))\n",
    "        \n",
    "    return I"
   ]
  },
  {
   "cell_type": "markdown",
   "metadata": {},
   "source": [
    "## Problem 1\n",
    "We apply the difference formulas for numerical differentation."
   ]
  },
  {
   "cell_type": "markdown",
   "metadata": {},
   "source": [
    "Using the following table we wish to compute the associated derivative at each point. We have done this with a program that uses the forward difference method for the left endpoint, backward difference for the right endpoint, and central difference for interior points."
   ]
  },
  {
   "cell_type": "code",
   "execution_count": 4,
   "metadata": {},
   "outputs": [
    {
     "data": {
      "text/html": [
       "<div>\n",
       "<style scoped>\n",
       "    .dataframe tbody tr th:only-of-type {\n",
       "        vertical-align: middle;\n",
       "    }\n",
       "\n",
       "    .dataframe tbody tr th {\n",
       "        vertical-align: top;\n",
       "    }\n",
       "\n",
       "    .dataframe thead th {\n",
       "        text-align: right;\n",
       "    }\n",
       "</style>\n",
       "<table border=\"1\" class=\"dataframe\">\n",
       "  <thead>\n",
       "    <tr style=\"text-align: right;\">\n",
       "      <th></th>\n",
       "      <th>x</th>\n",
       "      <th>f(x)</th>\n",
       "    </tr>\n",
       "  </thead>\n",
       "  <tbody>\n",
       "    <tr>\n",
       "      <th>0</th>\n",
       "      <td>0.5</td>\n",
       "      <td>0.4794</td>\n",
       "    </tr>\n",
       "    <tr>\n",
       "      <th>1</th>\n",
       "      <td>0.6</td>\n",
       "      <td>0.5646</td>\n",
       "    </tr>\n",
       "    <tr>\n",
       "      <th>2</th>\n",
       "      <td>0.7</td>\n",
       "      <td>0.6442</td>\n",
       "    </tr>\n",
       "  </tbody>\n",
       "</table>\n",
       "</div>"
      ],
      "text/plain": [
       "     x    f(x)\n",
       "0  0.5  0.4794\n",
       "1  0.6  0.5646\n",
       "2  0.7  0.6442"
      ]
     },
     "metadata": {},
     "output_type": "display_data"
    }
   ],
   "source": [
    "#Define our given data\n",
    "data = {'x':[0.5,0.6,0.7], 'f(x)':[0.4794,0.5646,0.6442]}\n",
    "tab = pd.DataFrame(data)\n",
    "display(tab)"
   ]
  },
  {
   "cell_type": "code",
   "execution_count": 5,
   "metadata": {},
   "outputs": [
    {
     "data": {
      "text/html": [
       "<div>\n",
       "<style scoped>\n",
       "    .dataframe tbody tr th:only-of-type {\n",
       "        vertical-align: middle;\n",
       "    }\n",
       "\n",
       "    .dataframe tbody tr th {\n",
       "        vertical-align: top;\n",
       "    }\n",
       "\n",
       "    .dataframe thead th {\n",
       "        text-align: right;\n",
       "    }\n",
       "</style>\n",
       "<table border=\"1\" class=\"dataframe\">\n",
       "  <thead>\n",
       "    <tr style=\"text-align: right;\">\n",
       "      <th></th>\n",
       "      <th>x</th>\n",
       "      <th>f(x)</th>\n",
       "      <th>f'(x)</th>\n",
       "      <th>numpy</th>\n",
       "    </tr>\n",
       "  </thead>\n",
       "  <tbody>\n",
       "    <tr>\n",
       "      <th>0</th>\n",
       "      <td>0.5</td>\n",
       "      <td>0.4794</td>\n",
       "      <td>0.852</td>\n",
       "      <td>0.852</td>\n",
       "    </tr>\n",
       "    <tr>\n",
       "      <th>1</th>\n",
       "      <td>0.6</td>\n",
       "      <td>0.5646</td>\n",
       "      <td>0.824</td>\n",
       "      <td>0.824</td>\n",
       "    </tr>\n",
       "    <tr>\n",
       "      <th>2</th>\n",
       "      <td>0.7</td>\n",
       "      <td>0.6442</td>\n",
       "      <td>0.796</td>\n",
       "      <td>0.796</td>\n",
       "    </tr>\n",
       "  </tbody>\n",
       "</table>\n",
       "</div>"
      ],
      "text/plain": [
       "     x    f(x)  f'(x)  numpy\n",
       "0  0.5  0.4794  0.852  0.852\n",
       "1  0.6  0.5646  0.824  0.824\n",
       "2  0.7  0.6442  0.796  0.796"
      ]
     },
     "metadata": {},
     "output_type": "display_data"
    }
   ],
   "source": [
    "#Calculate the derivative\n",
    "df = diff(tab.loc[:,'x'].values, tab.loc[:,'f(x)'].values)\n",
    "tab[\"f'(x)\"] = df\n",
    "tab['numpy'] = np.gradient(tab.loc[:,'f(x)'].values, 0.1)\n",
    "display(tab)"
   ]
  },
  {
   "cell_type": "markdown",
   "metadata": {},
   "source": [
    "We can see above that we have filled in our table with two additional columns. The first is \"f'(x)\" which is the derivative computed with our program written above. The second is the derivative computed with numpy's *gradient* function -- serving just to validate our answer."
   ]
  },
  {
   "cell_type": "markdown",
   "metadata": {},
   "source": [
    "## Problem 2\n",
    "Using Taylor series expansions we arrive at a forward weighted sum formula for numerical differentation."
   ]
  },
  {
   "cell_type": "markdown",
   "metadata": {},
   "source": [
    "We wish to arrive at the expression:\n",
    "\n",
    "$$ f'(x)\\approx \\frac{1}{h}(-\\frac{3}{2}f(x) + 2f(x+h) - \\frac{1}{2}f(x+2h)) $$\n",
    "\n",
    "We begin by writing our derivative as a weighted sum of function values with unknown coefficients.\n",
    "\n",
    "$$ f'(x) = af(x) + bf(x+h) + cf(x+2h) $$\n",
    "\n",
    "We will then expand everything on the right hand side as Taylor series centered at x. Doing this gives the following results for all the terms:\n",
    "\n",
    "$$\n",
    "\\begin{align}\n",
    "    &af(x) = af(x)\\\\\n",
    "    &bf(x+h) = b[f(x) + hf'(x) + \\frac{h^2}{2}f''(x) + \\cdots]\\\\\n",
    "    &xf(x+2h) = x[f(x) + 2hf'(x) + 2h^2f''(x) + \\cdots]\n",
    "\\end{align}\n",
    "$$\n",
    "\n",
    "Next, we match coefficients from the left and right hand sides to determine the values for a, b, and c. We note that we only expanded to three terms as we will only need three equations to determine our weighting. If we were interested in the error we could expand further, but we will not do so here.\n",
    "\n",
    "$$\n",
    "\\begin{align}\n",
    "    &f(x)\\implies 0=a+b+c\\\\\n",
    "    &f'(x)\\implies 1=bh+2hc\\\\\n",
    "    &f''(x)\\implies 0 = \\frac{bh^2}{2} + 2ch^2\n",
    "\\end{align}\n",
    "$$\n",
    "\n",
    "The second equation implies that $b=\\frac{1}{h}+2c$, and together with the third equation this implies that $0 = \\frac{h}{2}+ch^2$. This gives us $c=\\frac{-1}{2h}$ and $b=\\frac{2}{h}$. Plugging both of these into the first equation gives $a=\\frac{-3}{2h}$. Having determined all of our coefficients we arrive at our final answer:\n",
    "\n",
    "$$\n",
    "\\boxed{f'(x)\\approx \\frac{-3}{2h}f(x) + \\frac{2}{h}f(x+h) + \\frac{-1}{2h}f(x+2h)}\n",
    "$$"
   ]
  },
  {
   "cell_type": "markdown",
   "metadata": {},
   "source": [
    "## Problem 3\n",
    "We derive Simpson's $\\frac{3}{8}$ rule using Lagrange polynomials as well as Taylor comparison."
   ]
  },
  {
   "cell_type": "markdown",
   "metadata": {},
   "source": [
    "We will first define a few things that will be necessary for both methods moving forward. Simpson's 3/8 rule is a method for numerically evaluating -- using four sample points -- an integral of the form:\n",
    "\n",
    "$$ \\int_a^bf(x)\\;dx $$\n",
    "\n",
    "We will take four sample points inside $[a,b]$ with $x_i=a+ih,\\;i=0,1,2,3,\\;h=\\frac{b-a}{3}$. We note that in practice if the region of integration was large than this method would be done repeatedly for smaller slices inside the region (i.e composite Simpson's). With this setup Simpson's 3/8 rule is given as follows:\n",
    "\n",
    "$$ \\int_{x_0}^{x_3}f(x)\\;dx\\approx\\frac{3h}{8}[f(x_0)+3f(x_1)+3f(x_2)+f(x_3)] $$"
   ]
  },
  {
   "cell_type": "markdown",
   "metadata": {},
   "source": [
    "### a). Lagrange\n",
    "We want to build a third degree Lagrange polynomial that passes through all four of our points and integrate that as an approximation of the true integral. Letting $L(x)$ be our third degree Lagrange polynomial we will say the following:\n",
    "\n",
    "$$ \\int_a^bf(x)\\;dx=\\int_{x_0}^{x_3}f(x)\\;dx\\approx\\int_{x_0}^{x_3}L(x)\\;dx $$"
   ]
  },
  {
   "cell_type": "markdown",
   "metadata": {},
   "source": [
    "Our first step is to build the Lagrange polynomial, this is rather straightforward and gives us the following:\n",
    "\n",
    "$$\n",
    "\\begin{align}\n",
    "    L(x) &=\\frac{(x-x_1)(x-x_2)(x-x_3)}{(x_0-x_1)(x_0-x_2)(x_0-x_3)}f(x_0)\\\\\n",
    "    &+\\frac{(x-x_0)(x-x_2)(x-x_3)}{(x_1-x_0)(x_1-x_2)(x_0-x_3)}f(x_1)\\\\\n",
    "    &+\\frac{(x-x_0)(x-x_1)(x-x_3)}{(x_2-x_0)(x_2-x_1)(x_2-x_3)}f(x_2)\\\\\n",
    "    &+\\frac{(x-x_0)(x-x_1)(x-x_2)}{(x_3-x_0)(x_3-x_1)(x_3-x_2)}f(x_3)\n",
    "\\end{align}\n",
    "$$"
   ]
  },
  {
   "cell_type": "markdown",
   "metadata": {},
   "source": [
    "Next, we will make a change of variables that will simplify the integral to a large degree, so we let $s=\\frac{2x-x_0-x_3}{x_3-x_0}$. Plugging in our integration bounds we see that $x=x_0\\implies s=-1$ and $x=x_3\\implies s=1$. Differentiating we see that $ds=\\frac{2}{3h}dx$, so the last step is to determine the numerator values for our polynomials. We first write $x=\\frac{3hs+2x_0+3h}{2}$ and then proceed as follow:\n",
    "\n",
    "$$\n",
    "\\begin{align}\n",
    "    &x-x_0=\\frac{3hs+3h}{2}=\\frac{h}{2}(3s+3)\\\\\n",
    "    &x-x_1=\\frac{3hs+h}{2}=\\frac{h}{2}(3s+1)\\\\\n",
    "    &x-x_2=\\frac{3hs-h}{2}=\\frac{h}{2}(3s-1)\\\\\n",
    "    &x-x_3=\\frac{3hs-3h}{2}=\\frac{h}{2}(3s-3)\n",
    "\\end{align}\n",
    "$$"
   ]
  },
  {
   "cell_type": "markdown",
   "metadata": {},
   "source": [
    "One further step remains before we can integrate, we must evaluate the denomenator of all terms in our Lagrange polynomial.\n",
    "\n",
    "$$\n",
    "\\begin{align}\n",
    "    &(x_0-x_1)(x_0-x_2)(x_0-x_3)=(-h)(-2h)(-3h)=-6h^3\\\\\n",
    "    &(x_1-x_0)(x_1-x_2)(x_0-x_3)=(h)(-h)(-2h)=2h^3\\\\\n",
    "    &(x_2-x_0)(x_2-x_1)(x_2-x_3)=(2h)(h)(-h)=-2h^3\\\\\n",
    "    &(x_3-x_0)(x_3-x_1)(x_3-x_2)=(3h)(2h)(h)=6h^3\n",
    "\\end{align}\n",
    "$$\n",
    "\n",
    "Putting this all back together we have our final integral that we must evaluate.\n",
    "\n",
    "$$\n",
    "\\begin{align}\n",
    "    \\int_{-1}^1 &\\frac{h^3}{8}[\\frac{(3s+1)(3s-1)(3s-3)}{-6h^3}f(x_0)\\\\\n",
    "    &+\\frac{(3s+3)(3s-1)(3s-3)}{2h^3}f(x_1)\\\\\n",
    "    &+\\frac{(3s+3)(3s+1)(3s-3)}{-2h^3}f(x_2)\\\\\n",
    "    &+\\frac{(3s+3)(3s+1)(3s-1)}{6h^3}f(x_3)]\\frac{3h}{2}ds\n",
    "\\end{align}\n",
    "$$\n",
    "\n",
    "Simplifying this we get...\n",
    "\n",
    "$$\n",
    "\\begin{align}\n",
    "    \\frac{3h}{32}\\int_{-1}^1 &\\frac{(3s+1)(3s-1)(3s-3)}{-3}f(x_0)\\\\\n",
    "    &+(3s+3)(3s-1)(3s-3)f(x_1)\\\\\n",
    "    &-(3s+3)(3s+1)(3s-3)f(x_2)\\\\\n",
    "    &+\\frac{(3s+3)(3s+1)(3s-1)}{3}f(x_3)ds\n",
    "\\end{align}\n",
    "$$"
   ]
  },
  {
   "cell_type": "markdown",
   "metadata": {},
   "source": [
    "The final step is to integrate which we will do individually for each term.\n",
    "\n",
    "$$\n",
    "\\begin{align}\n",
    "    &\\int_{-1}^1 \\frac{(3s+1)(3s-1)(3s-3)}{-3}f(x_0)ds\\\\\n",
    "    &=\\frac{-f(x_0}{3}\\int_{-1}^1 27s^3-27s^2-3s+3=-12\\frac{-f(x_0}{3}=4f(x_0)\n",
    "\\end{align}\n",
    "$$\n",
    "\n",
    "---\n",
    "\n",
    "$$\n",
    "\\begin{align}\n",
    "    &\\int_{-1}^1 (3s+3)(3s-1)(3s-3)f(x_1)ds\\\\\n",
    "    &=f(x_1)\\int_{-1}^1 27s^3-9s^2-27s+9=12f(x_1)=(4)(3)f(x_1)\n",
    "\\end{align}\n",
    "$$\n",
    "\n",
    "---\n",
    "\n",
    "$$\n",
    "\\begin{align}\n",
    "    &\\int_{-1}^1 -(3s+3)(3s+1)(3s-3)f(x_2)ds\\\\\n",
    "    &=-f(x_2)\\int_{-1}^1 27s^3+9s^2-27s-9=12f(x_2)=(4)(3)f(x_2)\n",
    "\\end{align}\n",
    "$$\n",
    "\n",
    "---\n",
    "\n",
    "$$\n",
    "\\begin{align}\n",
    "    &\\int_{-1}^1 \\frac{(3s+3)(3s+1)(3s-1)}{3}f(x_3)ds\\\\\n",
    "    &=\\frac{f(x_3)}{3}\\int_{-1}^1 27s^3+27s^2-3s-3=12\\frac{f(x_3)}{3}=4f(x_3)\n",
    "\\end{align}\n",
    "$$"
   ]
  },
  {
   "cell_type": "markdown",
   "metadata": {},
   "source": [
    "Factoring the $4$ out of all of these values, and remembering to multiply by the original factor of $\\frac{3h}{32}$ we have finally arrived at our Simpson's 3/8 expression.\n",
    "\n",
    "$$ \\int_a^bf(x)\\;dx=\\int_{x_0}^{x_3}f(x)\\;dx\\approx\\frac{3h}{8}[f(x_0)+3f(x_1)+3f(x_2)+f(x_3)] $$"
   ]
  },
  {
   "cell_type": "markdown",
   "metadata": {},
   "source": [
    "### b). Taylor\n",
    "We would like to write our integral as the weighted sum of our function evaluated at our sample points.\n",
    "\n",
    "$$ \\int_a^bf(x)\\;dx=\\int_{x_0}^{x_3}f(x)\\;dx\\approx af(x_0)+bf(x_1)+cf(x_2)+df(x_3) $$"
   ]
  },
  {
   "cell_type": "markdown",
   "metadata": {},
   "source": [
    "We will expand $f(x)$ as a Taylor polynomial centered around our first point $x_0$. We also note that we only expand to the first four terms as we will only need four equations to solve for our coefficients. More terms could be used to identify the error, but this will not be done here.\n",
    "\n",
    "$$ \\text{Taylor}\\implies f(x)=f(x_0)+(x-x_0)f'(x_0)+\\frac{(x-x_0)^2}{2}f''(x)+\\frac{(x-x_0)^3}{6}f'''(x)+\\cdots $$\n",
    "\n",
    "Plugging this in on the left hand side gives us the following expression for the integral:\n",
    "\n",
    "$$ \n",
    "\\begin{align}\n",
    "    \\int_{x_0}^{x_3}f(x)\\;dx&=\\int_{x_0}^{x_3}f(x_0)+(x-x_0)f'(x_0)+\\frac{(x-x_0)^2}{2}f''(x)+\\frac{(x-x_0)^3}{6}f'''(x)+\\cdots\\\\\n",
    "    &=xf(x_0)+\\frac{(x-x_0)^2}{2}f'(x_0)+\\frac{(x-x_0)^3}{6}f''(x)+\\frac{(x-x_0)^4}{24}f'''(x)+\\cdots\\bigg|_{x_0}^{x_3}\\\\\n",
    "    &=3hf(x_0)+\\frac{9h^2}{2}f'(x_0)+\\frac{9h^3}{2}f''(x_0)+\\frac{27h^4}{8}f'''(x_0)+\\cdots\n",
    "\\end{align}\n",
    "$$\n",
    "\n",
    "Plugging our expansion into the right hand side gives us the following:\n",
    "\n",
    "$$\n",
    "\\begin{align}\n",
    "    af(x_0)+bf(x_1)+cf(x_2)+df(x_3)&=af(x_0)\\\\\n",
    "    &+b[f(x_0)+hf'(x_0)+\\frac{h^2}{2}f''(x_0)+\\frac{h^3}{6}f'''(x_0)+\\cdots]\\\\\n",
    "    &+c[f(x_0)+2hf'(x_0)+2h^2f''(x_0)+\\frac{4h^3}{3}f'''(x_0)+\\cdots]\\\\\n",
    "    &+d[f(x_0)+3hf'(x_0)+\\frac{9h^2}{2}f''(x_0)+\\frac{9h^3}{2}f'''(x_0)+\\cdots]\n",
    "\\end{align}\n",
    "$$\n",
    "\n",
    "Our next step is to match coefficients for the various derivatives of the function $f(x)$.\n",
    "\n",
    "$$\n",
    "\\begin{align}\n",
    "    &f(x):\\;\\; 3h=a+b+c+d\\\\\n",
    "    &f'(x):\\;\\; \\frac{9h^2}{2}=bh+2ch+3dh\\\\\n",
    "    &f''(x):\\;\\; \\frac{9h^3}{2}=\\frac{bh^2}{2}+2ch^2+\\frac{9dh^2}{2}\\\\\n",
    "    &f'''(x):\\;\\; \\frac{27h^4}{8}=\\frac{bh^3}{6}+\\frac{4ch^3}{3}+\\frac{9dh^3}{2}\n",
    "\\end{align}\n",
    "$$\n",
    "\n",
    "We can see that we have four equations and four unknowns so all we need to do is solve the linear system. We note that every equation will have an $h$ on the left hand side telling us there will be an $h$ in the final value for each coefficient. We will use Numpy's linear system solver to determine our coefficients."
   ]
  },
  {
   "cell_type": "code",
   "execution_count": 6,
   "metadata": {},
   "outputs": [
    {
     "data": {
      "text/plain": [
       "array([0.375, 1.125, 1.125, 0.375])"
      ]
     },
     "metadata": {},
     "output_type": "display_data"
    }
   ],
   "source": [
    "A = np.array([[1,1,1,1],\n",
    "            [0,1,2,3],\n",
    "            [0,1/2,2,9/2],\n",
    "            [0,1/6,4/3,9/2]])\n",
    "\n",
    "b = np.array([3,9/2,9/2,27/8])\n",
    "b.reshape((len(b),1))\n",
    "\n",
    "x = np.linalg.solve(A,b)\n",
    "display(x)"
   ]
  },
  {
   "cell_type": "markdown",
   "metadata": {},
   "source": [
    "As can be seen above our coefficients have the following values: $\\boxed{a=\\frac{3h}{8},\\;b=\\frac{9h}{8},\\;c=\\frac{9h}{8},\\;d=\\frac{3h}{8}}$. We note that the $h$ was factored out of $\\bf{b}$ to use the numerical solver. As is easy to see this does in fact give us Simpson's 3/8 rule.\n",
    "\n",
    "$$ \\int_a^bf(x)\\;dx=\\int_{x_0}^{x_3}f(x)\\;dx\\approx\\frac{3h}{8}[f(x_0)+3f(x_1)+3f(x_2)+f(x_3)] $$"
   ]
  },
  {
   "cell_type": "markdown",
   "metadata": {},
   "source": [
    "## Problem 4\n",
    "We use the composite trapezoidal rule and the composite Simpson's $\\frac{1}{3}$ rule to numerically integrate."
   ]
  },
  {
   "cell_type": "markdown",
   "metadata": {},
   "source": [
    "We wish to compute the integral $I=\\int_0^2x^2e^{-x^2}dx$ using the following methods with $h=0.25$. This integral is not something that we can compute analytically, so we are unable to compare to the \"actual\" value. Below we have set up our function and plotted it for visualization purposes. We also note that our integration functions have been defined above."
   ]
  },
  {
   "cell_type": "code",
   "execution_count": 7,
   "metadata": {},
   "outputs": [
    {
     "data": {
      "image/png": "[encoded data removed]",
      "text/plain": [
       "<Figure size 432x288 with 1 Axes>"
      ]
     },
     "metadata": {
      "needs_background": "light"
     },
     "output_type": "display_data"
    }
   ],
   "source": [
    "a = 0\n",
    "b = 2\n",
    "h = 0.25\n",
    "def f(x):\n",
    "    return (x**2)*(np.exp(-x**2))\n",
    "\n",
    "x = np.linspace(0,2,100)\n",
    "\n",
    "plt.plot(x, f(x))\n",
    "plt.tight_layout()"
   ]
  },
  {
   "cell_type": "markdown",
   "metadata": {},
   "source": [
    "### a).\n",
    "Here we use the composite Trapezoidal rule."
   ]
  },
  {
   "cell_type": "code",
   "execution_count": 8,
   "metadata": {},
   "outputs": [
    {
     "name": "stdout",
     "output_type": "stream",
     "text": [
      "I=0.421582, Numpy=0.421582\n"
     ]
    }
   ],
   "source": [
    "coop = trapezoidal(f, a, b, h)\n",
    "x = np.arange(0,2+h,h)\n",
    "real = np.trapz(f(x), x)\n",
    "\n",
    "print('I=%f, Numpy=%f' % (coop, real))"
   ]
  },
  {
   "cell_type": "markdown",
   "metadata": {},
   "source": [
    "We can see that our composite trapezoidal function evaluated the integral as $\\boxed{I=0.421582}$. Note that the *Numpy* value is just being used for verification."
   ]
  },
  {
   "cell_type": "markdown",
   "metadata": {},
   "source": [
    "### b). \n",
    "Here we use the composite Simpson's $\\frac{1}{3}$ rule."
   ]
  },
  {
   "cell_type": "code",
   "execution_count": 9,
   "metadata": {},
   "outputs": [
    {
     "name": "stdout",
     "output_type": "stream",
     "text": [
      "I=0.422716, Scipy=0.422716\n"
     ]
    }
   ],
   "source": [
    "coop = simpson_13(f, a, b, h)\n",
    "x = np.arange(0,2+h,h)\n",
    "real = spi.simps(f(x), x)\n",
    "\n",
    "print('I=%f, Scipy=%f' % (coop, real))"
   ]
  },
  {
   "cell_type": "markdown",
   "metadata": {},
   "source": [
    "We can see that our composite Simpson's 1/3 function evaluated the integral as $\\boxed{I=0.422716}$. Note that the *Scipy* value is just being used for verification."
   ]
  },
  {
   "cell_type": "markdown",
   "metadata": {},
   "source": [
    "## Problem 5\n",
    "We use Gaussian quadrature to numerically compute an integral for different degrees $n$."
   ]
  },
  {
   "cell_type": "markdown",
   "metadata": {},
   "source": [
    "We wish to compute the integral $I=\\int_0^1x^2e^{-x}dx$ using the following number of terms in the weighted sum. \n",
    "\n",
    "First we wish to compute the integral analytically to have something to compare it to.\n",
    "\n",
    "We will need to integrate by parts twice, so letting $u=x^2$, $du=2xdx$, $dv=e^{-x}dx$, $v=-e^{-x}$ we have:\n",
    "\n",
    "$$\n",
    "\\int_0^1x^2e^{-x}dx = -x^2e^{-x}\\big|_0^1 + \\int_0^12xe^{-x}dx\n",
    "$$\n",
    "\n",
    "Our substitutions remain the same and so we have:\n",
    "\n",
    "$$\n",
    "\\int_0^12xe^{-x}dx = 2[-xe^{-x}\\big|_0^1+\\int_0^1e^{-x}]\n",
    "$$\n",
    "\n",
    "Giving us the final expression:\n",
    "\n",
    "$$\n",
    "\\int_0^1x^2e^{-x}dx = -x^2e^{-x}\\big|_0^1 -2xe^{-x}\\big|_0^1 -2e^{-x}\\big|_0^1 = \\boxed{2 - 5e^{-1}=I}\n",
    "$$"
   ]
  },
  {
   "cell_type": "code",
   "execution_count": 10,
   "metadata": {},
   "outputs": [],
   "source": [
    "a = 0\n",
    "b = 1\n",
    "real = 2-5*np.exp(-1) #Analytic value\n",
    "def f(x):\n",
    "    return (x**2)*(np.exp(-x))"
   ]
  },
  {
   "cell_type": "markdown",
   "metadata": {},
   "source": [
    "### a). $n=2$"
   ]
  },
  {
   "cell_type": "code",
   "execution_count": 11,
   "metadata": {},
   "outputs": [
    {
     "name": "stdout",
     "output_type": "stream",
     "text": [
      "I=0.159410, Exact=0.160603, error=0.001192; Scipy=0.159410\n"
     ]
    }
   ],
   "source": [
    "calc = gaussQuad(f, a, b, 2)\n",
    "sci = spi.fixed_quad(f, a, b, n=2)\n",
    "print('I=%f, Exact=%f, error=%f; Scipy=%f' % (calc, real, np.abs(calc-real), sci[0]))"
   ]
  },
  {
   "cell_type": "markdown",
   "metadata": {},
   "source": [
    "Above we can see the computed value using second degree Gaussian Quadrature $\\boxed{I=0.159410}$. We can also see the exact value, the error, and the integral value computed using *Scipy's* function for verification."
   ]
  },
  {
   "cell_type": "markdown",
   "metadata": {},
   "source": [
    "### b). $n=3$"
   ]
  },
  {
   "cell_type": "code",
   "execution_count": 12,
   "metadata": {},
   "outputs": [
    {
     "name": "stdout",
     "output_type": "stream",
     "text": [
      "I=0.160595, Exact=0.160603, error=0.000007; Scipy=0.160595\n"
     ]
    }
   ],
   "source": [
    "calc = gaussQuad(f, a, b, 3)\n",
    "sci = spi.fixed_quad(f, a, b, n=3)\n",
    "print('I=%f, Exact=%f, error=%f; Scipy=%f' % (calc, real, np.abs(calc-real), sci[0]))"
   ]
  },
  {
   "cell_type": "markdown",
   "metadata": {},
   "source": [
    "Above we can see the computed value using third degree Gaussian Quadrature $\\boxed{I=0.160595}$. We can also see the exact value, the error, and the integral value computed using Scipy's function for verification."
   ]
  },
  {
   "cell_type": "markdown",
   "metadata": {},
   "source": [
    "It is clear to see that the error when $n=2$ is much higher than the error when $n=3$. In this case the error was of magnitude $10^{-3}$ for $n=2$, and was of magnitude $10^{-6}$ for $n=3$. That is significantly better, and this makes sense given a third order approach takes into account more information about the function."
   ]
  }
 ],
 "metadata": {
  "kernelspec": {
   "display_name": "Python 3",
   "language": "python",
   "name": "python3"
  },
  "language_info": {
   "codemirror_mode": {
    "name": "ipython",
    "version": 3
   },
   "file_extension": ".py",
   "mimetype": "text/x-python",
   "name": "python",
   "nbconvert_exporter": "python",
   "pygments_lexer": "ipython3",
   "version": "3.7.6"
  }
 },
 "nbformat": 4,
 "nbformat_minor": 4
}
