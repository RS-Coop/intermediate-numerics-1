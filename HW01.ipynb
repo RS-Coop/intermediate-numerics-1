{
 "cells": [
  {
   "cell_type": "markdown",
   "metadata": {},
   "source": [
    "# Numerics 1: Homework 01\n",
    "## Cooper Simpson"
   ]
  },
  {
   "cell_type": "markdown",
   "metadata": {},
   "source": [
    "## Setup\n",
    "\n",
    "Here we have setup our notebook by importing neccessary modules and defining our various root finding methods that we will use throughout."
   ]
  },
  {
   "cell_type": "code",
   "execution_count": 61,
   "metadata": {
    "code_folding": [
     0
    ],
    "collapsed": true
   },
   "outputs": [
    {
     "name": "stdout",
     "output_type": "stream",
     "text": [
      "Reset css and font defaults in:\r\n",
      "/home/rs-coop/.jupyter/custom &\r\n",
      "/home/rs-coop/.local/share/jupyter/nbextensions\r\n"
     ]
    }
   ],
   "source": [
    "%%capture\n",
    "!jt -r"
   ]
  },
  {
   "cell_type": "code",
   "execution_count": 1,
   "metadata": {
    "code_folding": [
     0
    ]
   },
   "outputs": [],
   "source": [
    "#Change theme\n",
    "from jupyterthemes import jtplot\n",
    "!jt -t grade3\n",
    "jtplot.style()"
   ]
  },
  {
   "cell_type": "code",
   "execution_count": 63,
   "metadata": {
    "code_folding": [
     0
    ]
   },
   "outputs": [],
   "source": [
    "#Imports\n",
    "%matplotlib inline\n",
    "import numpy as np\n",
    "import pandas as pd\n",
    "import seaborn as sns\n",
    "import matplotlib.pyplot as plt\n",
    "from IPython.display import display\n",
    "sns.set()"
   ]
  },
  {
   "cell_type": "code",
   "execution_count": 76,
   "metadata": {
    "code_folding": [
     1,
     4,
     9,
     12,
     15,
     28,
     36,
     49
    ]
   },
   "outputs": [],
   "source": [
    "#Root finding class with different methods\n",
    "class RootFinder():\n",
    "    data = {}\n",
    "    \n",
    "    def __init__(self, tolerance=1E-4, max_iterations=1000):\n",
    "        self.tolerance = tolerance\n",
    "        self.max_iter = max_iterations\n",
    "      \n",
    "    #Clean up any member vars\n",
    "    def clean(self):\n",
    "        self.data = {}\n",
    "    \n",
    "    def addData(self, method, p, iterations):\n",
    "        self.data[method] = {'sequence':p, 'iterations':iterations}\n",
    "        \n",
    "    def fmtTable(self, start, end):\n",
    "        table = {}\n",
    "        iterations = []\n",
    "        \n",
    "        for method in self.data:\n",
    "            table[method] = self.data[method]['sequence']\n",
    "            iterations.append(self.data[method]['iterations'])\n",
    "            \n",
    "        df = pd.DataFrame.from_dict(table, orient='index')\n",
    "        df['Iterations'] = iterations\n",
    "        \n",
    "        return df.iloc[:, list(range(start)) + list(range(-end, 0))]\n",
    "    \n",
    "    def fmtTable_single(self, method):\n",
    "        table = {}\n",
    "        table['Root Estimate'] = self.data[method]['sequence']\n",
    "        \n",
    "        df = pd.DataFrame(table)\n",
    "        \n",
    "        return df\n",
    "    \n",
    "    def fmtTable_bisection(self):\n",
    "        table = {}\n",
    "        table['c'] = self.data['bisection']['sequence']\n",
    "        table['a'] = [a for a,b in self.ab]\n",
    "        table['b'] = [b for a,b in self.ab]\n",
    "        \n",
    "        df = pd.DataFrame(table)\n",
    "        \n",
    "        return df\n",
    "        \n",
    "\n",
    "    #Root finding methods...\n",
    "    \n",
    "    def bisection(self, a, b, f, *, ab_save=False):\n",
    "        p = []\n",
    "        ab = []\n",
    "        iterations = 0\n",
    "        \n",
    "        c_old = None\n",
    "        c_new = (a+b)/2\n",
    "        p.append(c_new)\n",
    "        ab.append((a, b))\n",
    "\n",
    "        while True:\n",
    "            \n",
    "            iterations += 1\n",
    "            fval = f(c_new)\n",
    "            \n",
    "            if np.sign(f(a)) + np.sign(fval) == 0:\n",
    "                b = c_new\n",
    "            elif np.sign(fval) + np.sign(f(b)) == 0:\n",
    "                a = c_new\n",
    "            else:\n",
    "                if fval == 0: break\n",
    "                \n",
    "                raise Exception('Root is not bounded by initial guess.')\n",
    "                \n",
    "            c_old = c_new\n",
    "            c_new = (a+b)/2\n",
    "            p.append(c_new)\n",
    "            ab.append((a, b))\n",
    "            \n",
    "            if np.abs((c_new-c_old)/c_old) <= self.tolerance or iterations>=self.max_iter:\n",
    "                break\n",
    "\n",
    "        self.addData('bisection', p, iterations)\n",
    "        \n",
    "        if ab_save:\n",
    "            self.ab = ab\n",
    "           \n",
    "        return c_new\n",
    "    \n",
    "    def FPI(self, p0, g):\n",
    "        p = []\n",
    "        iterations = 1\n",
    "        \n",
    "        p.append(p0)\n",
    "        p_new = g(p0)\n",
    "        p.append(p_new)\n",
    "        \n",
    "        while np.abs((p_new-p0)/p0) > self.tolerance and iterations<self.max_iter:\n",
    "            iterations += 1\n",
    "            \n",
    "            p0 = p_new\n",
    "            p_new = g(p0)\n",
    "            p.append(p_new)\n",
    "            \n",
    "        self.addData('fixed point iteration', p, iterations)\n",
    "        \n",
    "        return p_new\n",
    "\n",
    "    def newton(self, p0, f, df):\n",
    "        p = []\n",
    "        iterations = 1\n",
    "    \n",
    "        p.append(p0)\n",
    "        p_new = p0 - f(p0)/df(p0)\n",
    "        p.append(p_new)\n",
    "        \n",
    "        while np.abs((p_new-p0)/p0) > self.tolerance and iterations<self.max_iter:\n",
    "            iterations += 1\n",
    "            \n",
    "            p0 = p_new\n",
    "            p_new = p0 - f(p0)/df(p0)\n",
    "            p.append(p_new)\n",
    "            \n",
    "        self.addData('newton-raphson', p, iterations)\n",
    "        \n",
    "        return p_new\n",
    "\n",
    "    def false_pos(self, p0, p1, f):\n",
    "        p = []\n",
    "        iterations = 0\n",
    "        \n",
    "        p.append(p0)\n",
    "        p.append(p1)\n",
    "        \n",
    "        while np.abs((p1-p0)/p0) > self.tolerance and iterations<self.max_iter:\n",
    "            iterations += 1\n",
    "            \n",
    "            temp = p1 - (f(p1)*(p1-p0))/(f(p1)-f(p0))\n",
    "            p0 = p1\n",
    "            p1 = temp\n",
    "            p.append(p1)\n",
    "            \n",
    "        self.addData('false position', p, iterations)\n",
    "        \n",
    "        return p1"
   ]
  },
  {
   "cell_type": "code",
   "execution_count": 65,
   "metadata": {
    "code_folding": [
     1
    ]
   },
   "outputs": [],
   "source": [
    "#Plot a spider web for given function and convergance sequence\n",
    "def spider(f, seqs, *, fsize=(10,10), pad=2, step=0.1):\n",
    "    fig, ax = plt.subplots(1,len(seqs),figsize=fsize)\n",
    "    \n",
    "    for i,seq in enumerate(seqs):\n",
    "        xmax = max(seq)+pad\n",
    "        xmin = min(seq)-pad\n",
    "        x = np.arange(xmin, xmax, step)\n",
    "        \n",
    "        if len(seqs)>1:\n",
    "            axes = ax[i]\n",
    "        else:\n",
    "            axes = ax\n",
    "\n",
    "        axes.plot(x, f(x))\n",
    "        axes.plot(x,x)\n",
    "\n",
    "        last = (seq[0],0)\n",
    "        for p in seq:\n",
    "            val = f(p)\n",
    "\n",
    "            axes.plot([last[0],p], [last[1],val], c='r')\n",
    "            axes.plot([p,val], [val,val], c='r')\n",
    "            last = (val, val)\n",
    "\n",
    "        axes.set_xlim(xmin, xmax)\n",
    "        axes.set_title('Spider Web Diagram: Initial Guess @%s' % (seqs[i][0]))\n",
    "        \n",
    "    return fig"
   ]
  },
  {
   "cell_type": "code",
   "execution_count": 26,
   "metadata": {
    "code_folding": [
     0,
     1
    ],
    "collapsed": true
   },
   "outputs": [
    {
     "name": "stdout",
     "output_type": "stream",
     "text": [
      "-0.5671432903796383\n",
      "3\n",
      "First: -2, Last: -0.5671432903796383\n"
     ]
    }
   ],
   "source": [
    "#Testing above code\n",
    "def f(x):\n",
    "    return x + np.exp(x)\n",
    "\n",
    "def df(x):\n",
    "    return 1 + np.exp(x)\n",
    "\n",
    "rf = RootFinder()\n",
    "print(rf.newton(, f, df))\n",
    "print(rf.data['newton-raphson']['iterations'])\n",
    "print('First: %s, Last: %s' % (rf.data['newton-raphson']['sequence'][0], rf.data['newton-raphson']['sequence'][-1]))"
   ]
  },
  {
   "cell_type": "markdown",
   "metadata": {},
   "source": [
    "## Problem 1\n",
    "Find the root of $ f(x)=x + e^x $ within $10^{-4}$ using Bisection, Fixed Point Iteration, Newton-Raphson, and False Position.\n",
    "\n",
    "We first define our tolerance and our initial guesses, where we have a guess left of the root and a guess to the right of the root. If only one guess is needed we default to the left side guess. We also define the functions we need including the function itself, its derivative, and our $g(x)=x$ for fixed point iteration."
   ]
  },
  {
   "cell_type": "code",
   "execution_count": 24,
   "metadata": {},
   "outputs": [],
   "source": [
    "#Defining things\n",
    "tol = 1E-4 #Success tolerance\n",
    "lg = -2 #Left side guess when applicable\n",
    "rg = 0 #Right side guess when applicable\n",
    "\n",
    "def f(x):\n",
    "    return x + np.exp(x)\n",
    "\n",
    "def df(x):\n",
    "    return 1 + np.exp(x)\n",
    "\n",
    "def g(x):\n",
    "    return -np.exp(x)"
   ]
  },
  {
   "cell_type": "code",
   "execution_count": 26,
   "metadata": {},
   "outputs": [],
   "source": [
    "%%capture\n",
    "#Running things\n",
    "rf = RootFinder(tolerance=tol)\n",
    "rf.bisection(lg, rg, f)\n",
    "rf.FPI(lg, g)\n",
    "rf.newton(lg, f, df)\n",
    "rf.false_pos(lg, rg, f)"
   ]
  },
  {
   "cell_type": "code",
   "execution_count": 27,
   "metadata": {},
   "outputs": [
    {
     "data": {
      "text/html": [
       "<div>\n",
       "<style scoped>\n",
       "    .dataframe tbody tr th:only-of-type {\n",
       "        vertical-align: middle;\n",
       "    }\n",
       "\n",
       "    .dataframe tbody tr th {\n",
       "        vertical-align: top;\n",
       "    }\n",
       "\n",
       "    .dataframe thead th {\n",
       "        text-align: right;\n",
       "    }\n",
       "</style>\n",
       "<table border=\"1\" class=\"dataframe\">\n",
       "  <thead>\n",
       "    <tr style=\"text-align: right;\">\n",
       "      <th></th>\n",
       "      <th>0</th>\n",
       "      <th>1</th>\n",
       "      <th>2</th>\n",
       "      <th>3</th>\n",
       "      <th>4</th>\n",
       "      <th>5</th>\n",
       "      <th>15</th>\n",
       "      <th>16</th>\n",
       "      <th>17</th>\n",
       "      <th>18</th>\n",
       "      <th>19</th>\n",
       "      <th>Iterations</th>\n",
       "    </tr>\n",
       "  </thead>\n",
       "  <tbody>\n",
       "    <tr>\n",
       "      <th>bisection</th>\n",
       "      <td>-1.0</td>\n",
       "      <td>-0.500000</td>\n",
       "      <td>-0.750000</td>\n",
       "      <td>-0.62500</td>\n",
       "      <td>-0.562500</td>\n",
       "      <td>-0.593750</td>\n",
       "      <td>-0.567169</td>\n",
       "      <td>NaN</td>\n",
       "      <td>NaN</td>\n",
       "      <td>NaN</td>\n",
       "      <td>NaN</td>\n",
       "      <td>15</td>\n",
       "    </tr>\n",
       "    <tr>\n",
       "      <th>fixed point iteration</th>\n",
       "      <td>-2.0</td>\n",
       "      <td>-0.135335</td>\n",
       "      <td>-0.873423</td>\n",
       "      <td>-0.41752</td>\n",
       "      <td>-0.658678</td>\n",
       "      <td>-0.517535</td>\n",
       "      <td>-0.566970</td>\n",
       "      <td>-0.567242</td>\n",
       "      <td>-0.567087</td>\n",
       "      <td>-0.567175</td>\n",
       "      <td>-0.567125</td>\n",
       "      <td>19</td>\n",
       "    </tr>\n",
       "    <tr>\n",
       "      <th>newton-raphson</th>\n",
       "      <td>-2.0</td>\n",
       "      <td>-0.357609</td>\n",
       "      <td>-0.558708</td>\n",
       "      <td>-0.56713</td>\n",
       "      <td>-0.567143</td>\n",
       "      <td>NaN</td>\n",
       "      <td>NaN</td>\n",
       "      <td>NaN</td>\n",
       "      <td>NaN</td>\n",
       "      <td>NaN</td>\n",
       "      <td>NaN</td>\n",
       "      <td>4</td>\n",
       "    </tr>\n",
       "    <tr>\n",
       "      <th>false position</th>\n",
       "      <td>-2.0</td>\n",
       "      <td>0.000000</td>\n",
       "      <td>-0.698162</td>\n",
       "      <td>-0.58148</td>\n",
       "      <td>-0.566811</td>\n",
       "      <td>-0.567144</td>\n",
       "      <td>NaN</td>\n",
       "      <td>NaN</td>\n",
       "      <td>NaN</td>\n",
       "      <td>NaN</td>\n",
       "      <td>NaN</td>\n",
       "      <td>5</td>\n",
       "    </tr>\n",
       "  </tbody>\n",
       "</table>\n",
       "</div>"
      ],
      "text/plain": [
       "                         0         1         2        3         4         5  \\\n",
       "bisection             -1.0 -0.500000 -0.750000 -0.62500 -0.562500 -0.593750   \n",
       "fixed point iteration -2.0 -0.135335 -0.873423 -0.41752 -0.658678 -0.517535   \n",
       "newton-raphson        -2.0 -0.357609 -0.558708 -0.56713 -0.567143       NaN   \n",
       "false position        -2.0  0.000000 -0.698162 -0.58148 -0.566811 -0.567144   \n",
       "\n",
       "                             15        16        17        18        19  \\\n",
       "bisection             -0.567169       NaN       NaN       NaN       NaN   \n",
       "fixed point iteration -0.566970 -0.567242 -0.567087 -0.567175 -0.567125   \n",
       "newton-raphson              NaN       NaN       NaN       NaN       NaN   \n",
       "false position              NaN       NaN       NaN       NaN       NaN   \n",
       "\n",
       "                       Iterations  \n",
       "bisection                      15  \n",
       "fixed point iteration          19  \n",
       "newton-raphson                  4  \n",
       "false position                  5  "
      ]
     },
     "metadata": {},
     "output_type": "display_data"
    }
   ],
   "source": [
    "#Outputting things\n",
    "df = rf.fmtTable(6, 6)\n",
    "display(df)"
   ]
  },
  {
   "cell_type": "markdown",
   "metadata": {},
   "source": [
    "In the table above we can see, for each root finding method, the sequence of root estimates and the total number of iterations required to converge within $10^{-4}$. Note that *NaN* indicates that at that point the sequence had already converged; for example Newton-Raphson converges after only four iterations and thus has no sequence values after that point. Also note that the table jumps from index 5 to index 15. This is becuase of the large difference in iterations between some of the methods, so some of the middle sequence values were left out for readability. All methods used the same initial guess to the extent where that makes sense, so the 0th sequence value for bisection is -1 instead of -2 because that is the initial midpoint.\n",
    "\n",
    "In general we see that all methods converge to approximately the same root value of $\\boxed{-0.5671}$. Newton-Raphson was the fastest with 4 iterations, while False Position was close behind with 5. Bisection took much longer at 15 iterations, and Fixed Point Iteration took the longest with 19."
   ]
  },
  {
   "cell_type": "markdown",
   "metadata": {},
   "source": [
    "## Problem 2\n",
    "Use the Bisection method to find approximations within $10^{-4}$"
   ]
  },
  {
   "cell_type": "markdown",
   "metadata": {},
   "source": [
    "### a).\n",
    "Find first positive root of $x=tan(x)$. \n",
    "\n",
    "We will consider the function $tan(x)-x$ and look for the first positve zero. We know that $tan(0)=0$, but because we are looking for the first *positive* value we need to look past this. We also know that $tan$ has vertical asympototes at odd multiples of $\\frac{\\pi}{2}$. Thus we will take our initial our left hand guess just to the right of $\\frac{\\pi}{2}$ and our right hand guess just to the left of $\\frac{3\\pi}{2}$"
   ]
  },
  {
   "cell_type": "code",
   "execution_count": 28,
   "metadata": {},
   "outputs": [],
   "source": [
    "#Defining and running things\n",
    "def f(x):\n",
    "    return np.tan(x) - x\n",
    "\n",
    "lg = np.pi/2 + 0.1\n",
    "rg = 3*np.pi/2 - 0.1\n",
    "\n",
    "rf = RootFinder(tolerance=1E-4)\n",
    "root = rf.bisection(lg, rg, f, ab_save=True)"
   ]
  },
  {
   "cell_type": "code",
   "execution_count": 31,
   "metadata": {},
   "outputs": [
    {
     "name": "stdout",
     "output_type": "stream",
     "text": [
      "Root:4.493533, f(4.493533)=0.002498\n"
     ]
    },
    {
     "data": {
      "text/html": [
       "<div>\n",
       "<style scoped>\n",
       "    .dataframe tbody tr th:only-of-type {\n",
       "        vertical-align: middle;\n",
       "    }\n",
       "\n",
       "    .dataframe tbody tr th {\n",
       "        vertical-align: top;\n",
       "    }\n",
       "\n",
       "    .dataframe thead th {\n",
       "        text-align: right;\n",
       "    }\n",
       "</style>\n",
       "<table border=\"1\" class=\"dataframe\">\n",
       "  <thead>\n",
       "    <tr style=\"text-align: right;\">\n",
       "      <th></th>\n",
       "      <th>0</th>\n",
       "      <th>1</th>\n",
       "      <th>2</th>\n",
       "      <th>3</th>\n",
       "      <th>4</th>\n",
       "      <th>5</th>\n",
       "      <th>6</th>\n",
       "      <th>7</th>\n",
       "      <th>8</th>\n",
       "      <th>9</th>\n",
       "      <th>10</th>\n",
       "      <th>11</th>\n",
       "      <th>12</th>\n",
       "    </tr>\n",
       "  </thead>\n",
       "  <tbody>\n",
       "    <tr>\n",
       "      <th>c</th>\n",
       "      <td>3.141593</td>\n",
       "      <td>3.876991</td>\n",
       "      <td>4.244690</td>\n",
       "      <td>4.428539</td>\n",
       "      <td>4.520464</td>\n",
       "      <td>4.474502</td>\n",
       "      <td>4.497483</td>\n",
       "      <td>4.485992</td>\n",
       "      <td>4.491738</td>\n",
       "      <td>4.494610</td>\n",
       "      <td>4.493174</td>\n",
       "      <td>4.493892</td>\n",
       "      <td>4.493533</td>\n",
       "    </tr>\n",
       "    <tr>\n",
       "      <th>a</th>\n",
       "      <td>1.670796</td>\n",
       "      <td>3.141593</td>\n",
       "      <td>3.876991</td>\n",
       "      <td>4.244690</td>\n",
       "      <td>4.428539</td>\n",
       "      <td>4.428539</td>\n",
       "      <td>4.474502</td>\n",
       "      <td>4.474502</td>\n",
       "      <td>4.485992</td>\n",
       "      <td>4.491738</td>\n",
       "      <td>4.491738</td>\n",
       "      <td>4.493174</td>\n",
       "      <td>4.493174</td>\n",
       "    </tr>\n",
       "    <tr>\n",
       "      <th>b</th>\n",
       "      <td>4.612389</td>\n",
       "      <td>4.612389</td>\n",
       "      <td>4.612389</td>\n",
       "      <td>4.612389</td>\n",
       "      <td>4.612389</td>\n",
       "      <td>4.520464</td>\n",
       "      <td>4.520464</td>\n",
       "      <td>4.497483</td>\n",
       "      <td>4.497483</td>\n",
       "      <td>4.497483</td>\n",
       "      <td>4.494610</td>\n",
       "      <td>4.494610</td>\n",
       "      <td>4.493892</td>\n",
       "    </tr>\n",
       "  </tbody>\n",
       "</table>\n",
       "</div>"
      ],
      "text/plain": [
       "          0         1         2         3         4         5         6  \\\n",
       "c  3.141593  3.876991  4.244690  4.428539  4.520464  4.474502  4.497483   \n",
       "a  1.670796  3.141593  3.876991  4.244690  4.428539  4.428539  4.474502   \n",
       "b  4.612389  4.612389  4.612389  4.612389  4.612389  4.520464  4.520464   \n",
       "\n",
       "          7         8         9        10        11        12  \n",
       "c  4.485992  4.491738  4.494610  4.493174  4.493892  4.493533  \n",
       "a  4.474502  4.485992  4.491738  4.491738  4.493174  4.493174  \n",
       "b  4.497483  4.497483  4.497483  4.494610  4.494610  4.493892  "
      ]
     },
     "metadata": {},
     "output_type": "display_data"
    }
   ],
   "source": [
    "#Outputting things\n",
    "print('Root:%f, f(%f)=%f' % (root, root, f(root)))\n",
    "df = rf.fmtTable_bisection()\n",
    "display(df.transpose())"
   ]
  },
  {
   "cell_type": "markdown",
   "metadata": {},
   "source": [
    "In the table above we see values for the left and right a and b values as well as the midpoint c. We see that the Bisection method converges to a root value of $\\boxed{4.493533}$ indicated by the c value after 12 iterations."
   ]
  },
  {
   "cell_type": "markdown",
   "metadata": {},
   "source": [
    "### b).\n",
    "Find an approximation to $25^{1/3}$.\n",
    "\n",
    "We will consider the function $25-x^3$ which clearly has a root at our desired value of $25^{1/3}$, so finding this root will give us our approximation. We know the square root of 25 is 5 giving us an upper bound on our guesses, so we will take our initial guesses as 1 and 5 with our root somewhere in between."
   ]
  },
  {
   "cell_type": "code",
   "execution_count": 66,
   "metadata": {},
   "outputs": [],
   "source": [
    "#Defining and running things\n",
    "def f(x):\n",
    "    return 25-x**3\n",
    "\n",
    "lg = 1\n",
    "rg = 5\n",
    "\n",
    "rf = RootFinder(tolerance=1E-4)\n",
    "root = rf.bisection(lg, rg, f, ab_save=True)"
   ]
  },
  {
   "cell_type": "code",
   "execution_count": 67,
   "metadata": {},
   "outputs": [
    {
     "name": "stdout",
     "output_type": "stream",
     "text": [
      "Root:2.924072, Numpy:2.924018\n"
     ]
    },
    {
     "data": {
      "text/html": [
       "<div>\n",
       "<style scoped>\n",
       "    .dataframe tbody tr th:only-of-type {\n",
       "        vertical-align: middle;\n",
       "    }\n",
       "\n",
       "    .dataframe tbody tr th {\n",
       "        vertical-align: top;\n",
       "    }\n",
       "\n",
       "    .dataframe thead th {\n",
       "        text-align: right;\n",
       "    }\n",
       "</style>\n",
       "<table border=\"1\" class=\"dataframe\">\n",
       "  <thead>\n",
       "    <tr style=\"text-align: right;\">\n",
       "      <th></th>\n",
       "      <th>0</th>\n",
       "      <th>1</th>\n",
       "      <th>2</th>\n",
       "      <th>3</th>\n",
       "      <th>4</th>\n",
       "      <th>5</th>\n",
       "      <th>6</th>\n",
       "      <th>7</th>\n",
       "      <th>8</th>\n",
       "      <th>9</th>\n",
       "      <th>10</th>\n",
       "      <th>11</th>\n",
       "      <th>12</th>\n",
       "      <th>13</th>\n",
       "    </tr>\n",
       "  </thead>\n",
       "  <tbody>\n",
       "    <tr>\n",
       "      <th>c</th>\n",
       "      <td>3.0</td>\n",
       "      <td>2.0</td>\n",
       "      <td>2.5</td>\n",
       "      <td>2.75</td>\n",
       "      <td>2.875</td>\n",
       "      <td>2.9375</td>\n",
       "      <td>2.90625</td>\n",
       "      <td>2.921875</td>\n",
       "      <td>2.929688</td>\n",
       "      <td>2.925781</td>\n",
       "      <td>2.923828</td>\n",
       "      <td>2.924805</td>\n",
       "      <td>2.924316</td>\n",
       "      <td>2.924072</td>\n",
       "    </tr>\n",
       "    <tr>\n",
       "      <th>a</th>\n",
       "      <td>1.0</td>\n",
       "      <td>1.0</td>\n",
       "      <td>2.0</td>\n",
       "      <td>2.50</td>\n",
       "      <td>2.750</td>\n",
       "      <td>2.8750</td>\n",
       "      <td>2.87500</td>\n",
       "      <td>2.906250</td>\n",
       "      <td>2.921875</td>\n",
       "      <td>2.921875</td>\n",
       "      <td>2.921875</td>\n",
       "      <td>2.923828</td>\n",
       "      <td>2.923828</td>\n",
       "      <td>2.923828</td>\n",
       "    </tr>\n",
       "    <tr>\n",
       "      <th>b</th>\n",
       "      <td>5.0</td>\n",
       "      <td>3.0</td>\n",
       "      <td>3.0</td>\n",
       "      <td>3.00</td>\n",
       "      <td>3.000</td>\n",
       "      <td>3.0000</td>\n",
       "      <td>2.93750</td>\n",
       "      <td>2.937500</td>\n",
       "      <td>2.937500</td>\n",
       "      <td>2.929688</td>\n",
       "      <td>2.925781</td>\n",
       "      <td>2.925781</td>\n",
       "      <td>2.924805</td>\n",
       "      <td>2.924316</td>\n",
       "    </tr>\n",
       "  </tbody>\n",
       "</table>\n",
       "</div>"
      ],
      "text/plain": [
       "     0    1    2     3      4       5        6         7         8         9  \\\n",
       "c  3.0  2.0  2.5  2.75  2.875  2.9375  2.90625  2.921875  2.929688  2.925781   \n",
       "a  1.0  1.0  2.0  2.50  2.750  2.8750  2.87500  2.906250  2.921875  2.921875   \n",
       "b  5.0  3.0  3.0  3.00  3.000  3.0000  2.93750  2.937500  2.937500  2.929688   \n",
       "\n",
       "         10        11        12        13  \n",
       "c  2.923828  2.924805  2.924316  2.924072  \n",
       "a  2.921875  2.923828  2.923828  2.923828  \n",
       "b  2.925781  2.925781  2.924805  2.924316  "
      ]
     },
     "metadata": {},
     "output_type": "display_data"
    }
   ],
   "source": [
    "#Outputting things\n",
    "print('Root:%f, Numpy:%f' % (root, np.cbrt(25)))\n",
    "df = rf.fmtTable_bisection()\n",
    "display(df.transpose())"
   ]
  },
  {
   "cell_type": "markdown",
   "metadata": {},
   "source": [
    "In the table above we see values for the left and right a and b values as well as the midpoint c. We see that the Bisection method converges to a root value of $2.924072$ indicated by the c value after 13 iterations. Thus we can conclude that $\\boxed{25^{\\frac{1}{3}} \\approx 2.924072}$"
   ]
  },
  {
   "cell_type": "markdown",
   "metadata": {},
   "source": [
    "## Problem 3\n",
    "Use Fixed Point Iteration to find a solution of $2sin(\\pi x) + x = 0$ in $[1,2]$. Use an initial guess of $p_0=1$, and get an answer accurate within $10^{-2}$.\n",
    "\n",
    "To use fixed point iteration we must first transform our function into $g(x)=x$. While this looks straightforward, the naive approach will cause problems. For this reason we will let $g(x)=\\frac{2sin(\\pi x) + 4x}{3}$, and we will discuss why this is necessary later."
   ]
  },
  {
   "cell_type": "code",
   "execution_count": 72,
   "metadata": {},
   "outputs": [],
   "source": [
    "#Defining and running things\n",
    "def g(x):\n",
    "    return (2*np.sin(np.pi*x) + 4*x)/3\n",
    "\n",
    "rf = RootFinder(tolerance=1E-2)\n",
    "root = rf.FPI(1, g)"
   ]
  },
  {
   "cell_type": "code",
   "execution_count": 73,
   "metadata": {},
   "outputs": [
    {
     "name": "stdout",
     "output_type": "stream",
     "text": [
      "Root: 1.207989, f(1.207989)=-0.007817\n"
     ]
    },
    {
     "data": {
      "text/html": [
       "<div>\n",
       "<style scoped>\n",
       "    .dataframe tbody tr th:only-of-type {\n",
       "        vertical-align: middle;\n",
       "    }\n",
       "\n",
       "    .dataframe tbody tr th {\n",
       "        vertical-align: top;\n",
       "    }\n",
       "\n",
       "    .dataframe thead th {\n",
       "        text-align: right;\n",
       "    }\n",
       "</style>\n",
       "<table border=\"1\" class=\"dataframe\">\n",
       "  <thead>\n",
       "    <tr style=\"text-align: right;\">\n",
       "      <th></th>\n",
       "      <th>0</th>\n",
       "      <th>1</th>\n",
       "      <th>2</th>\n",
       "      <th>3</th>\n",
       "    </tr>\n",
       "  </thead>\n",
       "  <tbody>\n",
       "    <tr>\n",
       "      <th>Root Estimate</th>\n",
       "      <td>1.0</td>\n",
       "      <td>1.333333</td>\n",
       "      <td>1.200428</td>\n",
       "      <td>1.207989</td>\n",
       "    </tr>\n",
       "  </tbody>\n",
       "</table>\n",
       "</div>"
      ],
      "text/plain": [
       "                 0         1         2         3\n",
       "Root Estimate  1.0  1.333333  1.200428  1.207989"
      ]
     },
     "metadata": {},
     "output_type": "display_data"
    },
    {
     "data": {
      "image/png": "[encoded data removed]",
      "text/plain": [
       "<Figure size 1080x720 with 1 Axes>"
      ]
     },
     "metadata": {},
     "output_type": "display_data"
    }
   ],
   "source": [
    "#Outputting things\n",
    "print('Root: %f, f(%f)=%f' % (root, root, 2*np.sin(np.pi*root)+root))\n",
    "df = rf.fmtTable_single('fixed point iteration')\n",
    "display(df.transpose())\n",
    "fig = spider(g, [rf.data['fixed point iteration']['sequence']], pad=0.1, step=0.01, fsize=(15,10))"
   ]
  },
  {
   "cell_type": "markdown",
   "metadata": {},
   "source": [
    "We can see in the figure above that Fixed Point Iteration converged on a root value of $\\boxed{1.20}$ which is also shown in the spider web graph. Had we tried to use $g_0(x)=-2sin(\\pi x)$ we would not have been able to converge to the root. This is because for the root $p\\approx1.20$, $|g_0'(p)|\\approx5$ while $|g'(p)|\\approx0.4$. While this magnitude constraint is not necessary for convergance (it is sufficient), it does help to explain the problems in the naive approach."
   ]
  },
  {
   "cell_type": "markdown",
   "metadata": {},
   "source": [
    "## Problem 4"
   ]
  },
  {
   "cell_type": "markdown",
   "metadata": {},
   "source": [
    "### a).\n",
    "The iteration equation for the Secant root finding method can be written in multiple forms. The standard form is given below:\n",
    "$$ x_{n} = x_{n-1} - \\frac{f(x_{n-1})(x_{n-1}-x_{n-2})}{f(x_{n-1})-f(x_{n-2})}$$\n",
    "However, this can also be written in a simpler form given below:\n",
    "$$ x_n = \\frac{f(x_{n-1})x_{n-2}-f(x_{n-2})x_{n-1}}{f(x_{n-1})-f(x_{n-2})} $$\n",
    "\n",
    "This latter form is likely to be less accurate than the standard form due to the numerical faults of machine precision. In both cases we see that we are computing $f(x_{n-1})-f(x_{n-2})$ which can be very close to each other numerically (especially as we approach convergence). As well, in the numerator in both cases we are subtracting numbers that are almost identical. Because of this we break two fundamental rules: subtracting almost identical numbers, and dividing by values close to zero.\n",
    "\n",
    "The important thing that makes the simplified form less numerically stable is the fact that all of these rules are broken within the fraction that computes our new root estimate. This will give a very inaccurate update. However, in the standard form this fraction is subtracted from the original root estimate making it much more numerically stable. It is this small update to a value as opposed to an error filled update that makes the simplified version less accurate."
   ]
  },
  {
   "cell_type": "markdown",
   "metadata": {},
   "source": [
    "### b).\n",
    "Use Newtons method with the ordinary annuity equation to find the maximal interest rate a borrower can afford to pay for a 30 year mortgage on 135,000 paying 1,000 per month.\n",
    "$$ A=\\frac{P}{i}[1-(1+i)^{-n}]$$\n",
    "\n",
    "In the equation above $A=135000$ is the mortgage amount, $P=1000$ is the payment amount, and $n=30*12$ is the number of payment periods. We are curious about the parameter $i$ indicating the interest rate per period -- which in this case is interest rate per month.\n",
    "\n",
    "We will look at the equation $\\frac{P}{i}[1-(1+i)^{-n}]-A$ which has the derivative (necessary for Newtons method) of...\n",
    "$$ \\frac{P}{i^2}[in(1+i)^{-n-1}-(1-(1+i)^{-n}] $$"
   ]
  },
  {
   "cell_type": "code",
   "execution_count": 74,
   "metadata": {},
   "outputs": [],
   "source": [
    "#Defining and running things\n",
    "A=135000\n",
    "P=1000\n",
    "n=30*12\n",
    "\n",
    "def f(i):\n",
    "    return (P/i)*(1-(1+i)**(-n)) - A\n",
    "\n",
    "def df(i):\n",
    "    return (P/i**2)*(i*n*(1+i)**(-n-1) - (1-(1+i)**(-n)))\n",
    "\n",
    "p0 = 0.001\n",
    "\n",
    "rf = RootFinder(tolerance=1E-8)\n",
    "root = rf.newton(p0, f, df)"
   ]
  },
  {
   "cell_type": "code",
   "execution_count": 75,
   "metadata": {},
   "outputs": [
    {
     "name": "stdout",
     "output_type": "stream",
     "text": [
      "Root:0.006750, f(0.006750)=0.000000\n"
     ]
    },
    {
     "data": {
      "text/html": [
       "<div>\n",
       "<style scoped>\n",
       "    .dataframe tbody tr th:only-of-type {\n",
       "        vertical-align: middle;\n",
       "    }\n",
       "\n",
       "    .dataframe tbody tr th {\n",
       "        vertical-align: top;\n",
       "    }\n",
       "\n",
       "    .dataframe thead th {\n",
       "        text-align: right;\n",
       "    }\n",
       "</style>\n",
       "<table border=\"1\" class=\"dataframe\">\n",
       "  <thead>\n",
       "    <tr style=\"text-align: right;\">\n",
       "      <th></th>\n",
       "      <th>0</th>\n",
       "      <th>1</th>\n",
       "      <th>2</th>\n",
       "      <th>3</th>\n",
       "      <th>4</th>\n",
       "      <th>5</th>\n",
       "      <th>6</th>\n",
       "    </tr>\n",
       "  </thead>\n",
       "  <tbody>\n",
       "    <tr>\n",
       "      <th>Root Estimate</th>\n",
       "      <td>0.001</td>\n",
       "      <td>0.004263</td>\n",
       "      <td>0.006221</td>\n",
       "      <td>0.006724</td>\n",
       "      <td>0.00675</td>\n",
       "      <td>0.00675</td>\n",
       "      <td>0.00675</td>\n",
       "    </tr>\n",
       "  </tbody>\n",
       "</table>\n",
       "</div>"
      ],
      "text/plain": [
       "                   0         1         2         3        4        5        6\n",
       "Root Estimate  0.001  0.004263  0.006221  0.006724  0.00675  0.00675  0.00675"
      ]
     },
     "metadata": {},
     "output_type": "display_data"
    }
   ],
   "source": [
    "#Outputting things\n",
    "print('Root:%f, f(%f)=%f' % (root, root, f(root)))\n",
    "df = rf.fmtTable_single('newton-raphson')\n",
    "display(df.transpose())"
   ]
  },
  {
   "cell_type": "markdown",
   "metadata": {},
   "source": [
    "We can see that the maximal interest rate the borrower can afford to pay is $\\boxed{0.006750}$ per month. This was calculated by searching for the root of our ordinary annuity equation with respect to the variable $i$. An interest rate lower than this and the mortgage could be paid off faster, but an interest rate higher than this would mean the mortgage could not be paid off by the end of the period."
   ]
  },
  {
   "cell_type": "markdown",
   "metadata": {},
   "source": [
    "## Problem 5\n",
    "Use Fixed Point Iteration to explore the convergance characterstics for $f(x)=(x+1)(x-3)$ with $x=g(x)=\\frac{x^2-3}{2}$ relative to the magnitude of $g'$ near each of the roots."
   ]
  },
  {
   "cell_type": "code",
   "execution_count": 48,
   "metadata": {},
   "outputs": [],
   "source": [
    "#Defining things\n",
    "def f(x):\n",
    "    return (x+1)*(x-3)\n",
    "\n",
    "def g(x):\n",
    "    return (x**2-3)/2\n",
    "\n",
    "def mag_dg(x):\n",
    "    return np.abs(x)"
   ]
  },
  {
   "cell_type": "markdown",
   "metadata": {},
   "source": [
    "It is clear to see that our function has two roots: one at $x=-1$ and the other at $x=3$. We will first explore the convergence characteristics for the root at $x=-1$."
   ]
  },
  {
   "cell_type": "code",
   "execution_count": 49,
   "metadata": {},
   "outputs": [],
   "source": [
    "#Runnning things\n",
    "rf = RootFinder(max_iterations=2000)\n",
    "root1 = rf.FPI(-2, g)\n",
    "seq1 = rf.data['fixed point iteration']['sequence']\n",
    "\n",
    "rf.clean()\n",
    "\n",
    "root2 = rf.FPI(0.5, g)\n",
    "seq2 = rf.data['fixed point iteration']['sequence']"
   ]
  },
  {
   "cell_type": "code",
   "execution_count": 50,
   "metadata": {},
   "outputs": [
    {
     "name": "stdout",
     "output_type": "stream",
     "text": [
      "Root1: -1.031245, Root2: -0.968266\n"
     ]
    },
    {
     "data": {
      "image/png": "[encoded data removed]",
      "text/plain": [
       "<Figure size 1080x720 with 2 Axes>"
      ]
     },
     "metadata": {},
     "output_type": "display_data"
    }
   ],
   "source": [
    "#Outputting things\n",
    "print(\"Root1: %f, Root2: %f\" % (root1, root2))\n",
    "fig = spider(g, [seq1, seq2], fsize=(15,10), pad=1)"
   ]
  },
  {
   "cell_type": "markdown",
   "metadata": {},
   "source": [
    "Looking at the magnitude of the derivative we see that $|g'(-1)|=1$, so because we know Fixed Point Iteration will converge if $|g'(p)<1|$ near the root $p$ we have a chance of converging to the root. This is validated by the figures seen above -- for initial guesses to the left and right of the root. We see that the algorithm is getting closer and closer to converging to the root, and given enough time it would likely converge within any bound. I have limited the max number of iterations, but we can see that the algorithm enters a slowly decaying orbit around the root. Altogether we see that Fixed Point Iteration will converge in this case, but because the magnitude of the derivative is 1 it will be a slow convergance.\n",
    "\n",
    "We next examine the convergence characteristics for the root at $x=3$."
   ]
  },
  {
   "cell_type": "code",
   "execution_count": 51,
   "metadata": {},
   "outputs": [],
   "source": [
    "#Runnning things\n",
    "rf = RootFinder(max_iterations=2)\n",
    "root1 = rf.FPI(4, g)\n",
    "seq1 = rf.data['fixed point iteration']['sequence']\n",
    "\n",
    "rf = RootFinder(max_iterations=2000)\n",
    "\n",
    "root2 = rf.FPI(2.5, g)\n",
    "seq2 = rf.data['fixed point iteration']['sequence']"
   ]
  },
  {
   "cell_type": "code",
   "execution_count": 52,
   "metadata": {},
   "outputs": [
    {
     "name": "stdout",
     "output_type": "stream",
     "text": [
      "Root1: 19.625000, Root2: -0.968217\n"
     ]
    },
    {
     "data": {
      "image/png": "[encoded data removed]",
      "text/plain": [
       "<Figure size 1080x720 with 2 Axes>"
      ]
     },
     "metadata": {},
     "output_type": "display_data"
    }
   ],
   "source": [
    "#Outputting things\n",
    "print('Root1: %f, Root2: %f' % (root1, root2))\n",
    "fig = spider(g, [seq1, seq2], fsize=(15,10), pad=1)"
   ]
  },
  {
   "cell_type": "markdown",
   "metadata": {},
   "source": [
    "We first note that in this case we have $|g'(3)|=3$ which is most certainly not less than 1. Thus we expect that Fixed Point Iteration will not be able to converge to this root. This is validated by the plots we see immediately above. On the left we see a spider diagram for an initial guess to the right of the root -- this quickly diverges. On the right we see a spider diagram for an initial guess to the left of the root. This will converge, but it will converge to the the root at $x=-1$. Thus we see that Fixed Point Iteration is unable to converge to the root at $x=3$ no matter the initial guess becuase the magnitude of its first derivative near the root is too large."
   ]
  }
 ],
 "metadata": {
  "kernelspec": {
   "display_name": "Python 3",
   "language": "python",
   "name": "python3"
  },
  "language_info": {
   "codemirror_mode": {
    "name": "ipython",
    "version": 3
   },
   "file_extension": ".py",
   "mimetype": "text/x-python",
   "name": "python",
   "nbconvert_exporter": "python",
   "pygments_lexer": "ipython3",
   "version": "3.7.6"
  }
 },
 "nbformat": 4,
 "nbformat_minor": 4
}
